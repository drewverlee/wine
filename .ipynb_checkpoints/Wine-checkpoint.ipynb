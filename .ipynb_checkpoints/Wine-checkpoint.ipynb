{
 "metadata": {
  "name": "",
  "signature": "sha256:edf8deb520464a577257d8a41033efafd975b829af94badc0ebd49c53c347b4e"
 },
 "nbformat": 3,
 "nbformat_minor": 0,
 "worksheets": [
  {
   "cells": [
    {
     "cell_type": "heading",
     "level": 1,
     "metadata": {},
     "source": [
      "Demystifying what makes a quality wine"
     ]
    },
    {
     "cell_type": "markdown",
     "metadata": {},
     "source": [
      "<img src=\"http://imgur.com/gallery/pHkA0\", alt=\"let the reader be warned, i'm not a wine expert\">"
     ]
    },
    {
     "cell_type": "heading",
     "level": 2,
     "metadata": {},
     "source": [
      "OverView\n",
      "\n"
     ]
    },
    {
     "cell_type": "markdown",
     "metadata": {},
     "source": [
      "* Introduction: About Wine\n",
      "* Research Question and Hypothesis: What determines the quality of red wine\n",
      "  * Wine is a big deal\n",
      "  * About linear regression\n",
      "  * The hypothesis\n",
      "* Experiential Design:\n",
      "  * analysis plan\n",
      "  * tools\n",
      "* Creating the models\n",
      "  * setting up our data\n",
      "  * taking a peak at the data\n",
      "  * finding the..\n",
      "    * slope\n",
      "    * intercept\n",
      "    * line\n",
      "    * degrees of freedom\n",
      "    * standard error of the line\n",
      "    * t score\n",
      "    * t critical value\n",
      "* Results: Putting together our numbers in one place.\n",
      "* Conclusions: Does Alcohol determine the quality of red wine? \n"
     ]
    },
    {
     "cell_type": "heading",
     "level": 2,
     "metadata": {},
     "source": [
      "                           Introduction: About Wine"
     ]
    },
    {
     "cell_type": "markdown",
     "metadata": {},
     "source": [
      "\n",
      "The wine industry makes billions in revenue each year. Wine is toted as everything from a health product to a status symbol. Needless to say, wine is a big deal. But to the layman determining what's a good purchase is often a guessing game. Labels are confusing and the entire business is coated in mystery. Today were going to stab at lessening the confusion."
     ]
    },
    {
     "cell_type": "heading",
     "level": 2,
     "metadata": {},
     "source": [
      "Research Question and Hypothesis: What determines the quality of red wine."
     ]
    },
    {
     "cell_type": "heading",
     "level": 4,
     "metadata": {},
     "source": [
      "wine is a big deal"
     ]
    },
    {
     "cell_type": "markdown",
     "metadata": {},
     "source": [
      "Were going to determine the relationship between the quantity of alcohol in a wine and its quality using data from the [UCI Machine Learning Repository](https://archive.ics.uci.edu/ml/datasets/Wine+Quality)."
     ]
    },
    {
     "cell_type": "markdown",
     "metadata": {},
     "source": [
      "In order to test this our null hypothesis is going to that their is no relationship. Our alternative hypothesis will be that their is. Will put this into the context of our model (Linear Regression) after a brief explanation."
     ]
    },
    {
     "cell_type": "heading",
     "level": 4,
     "metadata": {},
     "source": [
      "About Linear Regression"
     ]
    },
    {
     "cell_type": "markdown",
     "metadata": {},
     "source": [
      "The stronger the relationship between our predictor and response variable, the better linear regression will work."
     ]
    },
    {
     "cell_type": "markdown",
     "metadata": {},
     "source": [
      "$$ response = intercept + (slope * predictor) $$\n",
      "$$ y = \\beta_{0} + \\beta_{1} * x $$\n",
      "\n",
      "to reflect that this a model and not a true population, all our estimated variables put on hats.\n",
      "\n",
      "$$ \\hat{y} = \\hat{\\beta_{0}} + \\hat{\\beta_{1}} * x $$\n"
     ]
    },
    {
     "cell_type": "heading",
     "level": 4,
     "metadata": {},
     "source": [
      "The Hypothesis"
     ]
    },
    {
     "cell_type": "markdown",
     "metadata": {},
     "source": [
      "so in the context of linear regression Our Hypothesis"
     ]
    },
    {
     "cell_type": "markdown",
     "metadata": {},
     "source": [
      "* Null Hypothesis: The slope of the regression line is equal to zero.\n",
      "* Alternative Hypothesis: The slope of the regression line is NOT equal to zero."
     ]
    },
    {
     "cell_type": "markdown",
     "metadata": {},
     "source": [
      "with only symbols:"
     ]
    },
    {
     "cell_type": "markdown",
     "metadata": {},
     "source": [
      "$$  H_{o}: \\beta_{1} = 0 $$\n",
      "$$ H_{a}: \\beta_{1} \\neq 0 $$\n"
     ]
    },
    {
     "cell_type": "heading",
     "level": 2,
     "metadata": {},
     "source": [
      "Expermental Design: "
     ]
    },
    {
     "cell_type": "heading",
     "level": 4,
     "metadata": {},
     "source": [
      "analysis plan"
     ]
    },
    {
     "cell_type": "markdown",
     "metadata": {},
     "source": [
      "We need to figure our if our slope differs *significantly* from 0. Sense *significance* is subjective, we have to choose a point where we consider it significant or not. This point is called alpha.  And were going to set it to 0.05\n",
      "\n",
      "$$ \\alpha = 0.05 $$ \n",
      "\n",
      "To re-orient ourselves, what were trying to do is find out how confident we are that the slope of the regression line we found is like the true slope. The range of values we think the true slope could be based on the estimated slope. The process of figuring out how unlikely our slope is given that the true hyothesis is 0, is called the p-value and is part of a t-test. Specificcaly, the p-vlaue is the proportion of scores that would fall beyond a t-score. In our case \n",
      "\n",
      " Lets make a quick list of the items will need:\n",
      "\n",
      "* estimated slope (which will call slope)\n",
      "* degrees of freedom of the slope\n",
      "* standard error of the slope ~ necessary to calculate the confidence interval\n",
      "* t-score\n",
      "* t-critical score\n",
      "* p-value.\n",
      "\n"
     ]
    },
    {
     "cell_type": "heading",
     "level": 4,
     "metadata": {},
     "source": [
      "Tools:"
     ]
    },
    {
     "cell_type": "markdown",
     "metadata": {},
     "source": [
      "To create our model and find the slope, R and R squared. Were going to use Pythons DataFrame library. This puts our data in a easy to manipulate table called a data frame."
     ]
    },
    {
     "cell_type": "heading",
     "level": 2,
     "metadata": {},
     "source": [
      "Creating our models"
     ]
    },
    {
     "cell_type": "heading",
     "level": 4,
     "metadata": {},
     "source": [
      "Setting up our data"
     ]
    },
    {
     "cell_type": "code",
     "collapsed": false,
     "input": [
      "import pandas as pd\n",
      "import matplotlib.pyplot as plt\n",
      "from math import sqrt\n",
      "%matplotlib inline"
     ],
     "language": "python",
     "metadata": {},
     "outputs": [],
     "prompt_number": 8
    },
    {
     "cell_type": "code",
     "collapsed": false,
     "input": [
      "red_wine_URL = \"https://archive.ics.uci.edu/ml/machine-learning-databases/wine-quality/winequality-red.csv\"\n",
      "df = pd.read_csv(red_wine_URL, sep=\";\")"
     ],
     "language": "python",
     "metadata": {},
     "outputs": [],
     "prompt_number": 9
    },
    {
     "cell_type": "heading",
     "level": 4,
     "metadata": {},
     "source": [
      "taking a peak at the data\n"
     ]
    },
    {
     "cell_type": "code",
     "collapsed": false,
     "input": [
      "df.head(5)"
     ],
     "language": "python",
     "metadata": {},
     "outputs": [
      {
       "html": [
        "<div style=\"max-height:1000px;max-width:1500px;overflow:auto;\">\n",
        "<table border=\"1\" class=\"dataframe\">\n",
        "  <thead>\n",
        "    <tr style=\"text-align: right;\">\n",
        "      <th></th>\n",
        "      <th>fixed acidity</th>\n",
        "      <th>volatile acidity</th>\n",
        "      <th>citric acid</th>\n",
        "      <th>residual sugar</th>\n",
        "      <th>chlorides</th>\n",
        "      <th>free sulfur dioxide</th>\n",
        "      <th>total sulfur dioxide</th>\n",
        "      <th>density</th>\n",
        "      <th>pH</th>\n",
        "      <th>sulphates</th>\n",
        "      <th>alcohol</th>\n",
        "      <th>quality</th>\n",
        "    </tr>\n",
        "  </thead>\n",
        "  <tbody>\n",
        "    <tr>\n",
        "      <th>0</th>\n",
        "      <td>  7.4</td>\n",
        "      <td> 0.70</td>\n",
        "      <td> 0.00</td>\n",
        "      <td> 1.9</td>\n",
        "      <td> 0.076</td>\n",
        "      <td> 11</td>\n",
        "      <td> 34</td>\n",
        "      <td> 0.9978</td>\n",
        "      <td> 3.51</td>\n",
        "      <td> 0.56</td>\n",
        "      <td> 9.4</td>\n",
        "      <td> 5</td>\n",
        "    </tr>\n",
        "    <tr>\n",
        "      <th>1</th>\n",
        "      <td>  7.8</td>\n",
        "      <td> 0.88</td>\n",
        "      <td> 0.00</td>\n",
        "      <td> 2.6</td>\n",
        "      <td> 0.098</td>\n",
        "      <td> 25</td>\n",
        "      <td> 67</td>\n",
        "      <td> 0.9968</td>\n",
        "      <td> 3.20</td>\n",
        "      <td> 0.68</td>\n",
        "      <td> 9.8</td>\n",
        "      <td> 5</td>\n",
        "    </tr>\n",
        "    <tr>\n",
        "      <th>2</th>\n",
        "      <td>  7.8</td>\n",
        "      <td> 0.76</td>\n",
        "      <td> 0.04</td>\n",
        "      <td> 2.3</td>\n",
        "      <td> 0.092</td>\n",
        "      <td> 15</td>\n",
        "      <td> 54</td>\n",
        "      <td> 0.9970</td>\n",
        "      <td> 3.26</td>\n",
        "      <td> 0.65</td>\n",
        "      <td> 9.8</td>\n",
        "      <td> 5</td>\n",
        "    </tr>\n",
        "    <tr>\n",
        "      <th>3</th>\n",
        "      <td> 11.2</td>\n",
        "      <td> 0.28</td>\n",
        "      <td> 0.56</td>\n",
        "      <td> 1.9</td>\n",
        "      <td> 0.075</td>\n",
        "      <td> 17</td>\n",
        "      <td> 60</td>\n",
        "      <td> 0.9980</td>\n",
        "      <td> 3.16</td>\n",
        "      <td> 0.58</td>\n",
        "      <td> 9.8</td>\n",
        "      <td> 6</td>\n",
        "    </tr>\n",
        "    <tr>\n",
        "      <th>4</th>\n",
        "      <td>  7.4</td>\n",
        "      <td> 0.70</td>\n",
        "      <td> 0.00</td>\n",
        "      <td> 1.9</td>\n",
        "      <td> 0.076</td>\n",
        "      <td> 11</td>\n",
        "      <td> 34</td>\n",
        "      <td> 0.9978</td>\n",
        "      <td> 3.51</td>\n",
        "      <td> 0.56</td>\n",
        "      <td> 9.4</td>\n",
        "      <td> 5</td>\n",
        "    </tr>\n",
        "  </tbody>\n",
        "</table>\n",
        "</div>"
       ],
       "metadata": {},
       "output_type": "pyout",
       "prompt_number": 10,
       "text": [
        "   fixed acidity  volatile acidity  citric acid  residual sugar  chlorides  \\\n",
        "0            7.4              0.70         0.00             1.9      0.076   \n",
        "1            7.8              0.88         0.00             2.6      0.098   \n",
        "2            7.8              0.76         0.04             2.3      0.092   \n",
        "3           11.2              0.28         0.56             1.9      0.075   \n",
        "4            7.4              0.70         0.00             1.9      0.076   \n",
        "\n",
        "   free sulfur dioxide  total sulfur dioxide  density    pH  sulphates  \\\n",
        "0                   11                    34   0.9978  3.51       0.56   \n",
        "1                   25                    67   0.9968  3.20       0.68   \n",
        "2                   15                    54   0.9970  3.26       0.65   \n",
        "3                   17                    60   0.9980  3.16       0.58   \n",
        "4                   11                    34   0.9978  3.51       0.56   \n",
        "\n",
        "   alcohol  quality  \n",
        "0      9.4        5  \n",
        "1      9.8        5  \n",
        "2      9.8        5  \n",
        "3      9.8        6  \n",
        "4      9.4        5  "
       ]
      }
     ],
     "prompt_number": 10
    },
    {
     "cell_type": "markdown",
     "metadata": {},
     "source": [
      "A scatter plot will help us get an idea if their is any relationship"
     ]
    },
    {
     "cell_type": "code",
     "collapsed": false,
     "input": [
      "df.plot(kind='scatter', x='alcohol', y='quality')"
     ],
     "language": "python",
     "metadata": {},
     "outputs": [
      {
       "metadata": {},
       "output_type": "pyout",
       "prompt_number": 11,
       "text": [
        "<matplotlib.axes.AxesSubplot at 0x7fe382bb3910>"
       ]
      },
      {
       "metadata": {},
       "output_type": "display_data",
       "png": "[encoded data removed]",
       "text": [
        "<matplotlib.figure.Figure at 0x7fe382bb3090>"
       ]
      }
     ],
     "prompt_number": 11
    },
    {
     "cell_type": "markdown",
     "metadata": {},
     "source": [
      "the data is really cramped, it would help us to see the density of our plots. Lets adjust the alpha (transperence) and s (size) to get a better idea."
     ]
    },
    {
     "cell_type": "code",
     "collapsed": false,
     "input": [
      "df.plot(kind='scatter', x='alcohol', y='quality', s=50, alpha=0.03)"
     ],
     "language": "python",
     "metadata": {},
     "outputs": [
      {
       "metadata": {},
       "output_type": "pyout",
       "prompt_number": 12,
       "text": [
        "<matplotlib.axes.AxesSubplot at 0x7fe382c2f1d0>"
       ]
      },
      {
       "metadata": {},
       "output_type": "display_data",
       "png": "[encoded data removed]",
       "text": [
        "<matplotlib.figure.Figure at 0x7fe382ad2b90>"
       ]
      }
     ],
     "prompt_number": 12
    },
    {
     "cell_type": "markdown",
     "metadata": {},
     "source": [
      "Ok well, the slope, if any, is positive but very weak."
     ]
    },
    {
     "cell_type": "heading",
     "level": 4,
     "metadata": {},
     "source": [
      "Lets find that slope."
     ]
    },
    {
     "cell_type": "markdown",
     "metadata": {},
     "source": [
      "The equations for the slope of the regression line can be constructed as:"
     ]
    },
    {
     "cell_type": "markdown",
     "metadata": {},
     "source": [
      "$$ \\hat\\beta = \\frac{ \\operatorname{Cov}[x,y] }{ \\operatorname{Var}[x] } $$"
     ]
    },
    {
     "cell_type": "code",
     "collapsed": false,
     "input": [
      "slope = df.alcohol.cov(df.quality)/df.alcohol.var()"
     ],
     "language": "python",
     "metadata": {},
     "outputs": [],
     "prompt_number": 13
    },
    {
     "cell_type": "markdown",
     "metadata": {},
     "source": [
      "lets overlay that"
     ]
    },
    {
     "cell_type": "heading",
     "level": 4,
     "metadata": {},
     "source": [
      "lets find the intercept ~ will need it to find the line"
     ]
    },
    {
     "cell_type": "markdown",
     "metadata": {},
     "source": [
      "the equation for the intercept is as follows:"
     ]
    },
    {
     "cell_type": "markdown",
     "metadata": {},
     "source": [
      "intercept equals the  expected responsive variables mean subtracted by the product of the estimated slope times the mean of the predictive variable"
     ]
    },
    {
     "cell_type": "markdown",
     "metadata": {},
     "source": [
      "$$ \\hat{\\alpha}  = \\bar{y} - \\hat{\\beta_{1}}\\bar{x} $$\n"
     ]
    },
    {
     "cell_type": "code",
     "collapsed": false,
     "input": [
      "intercept = df.quality.mean() - (slope * df.alcohol.mean())"
     ],
     "language": "python",
     "metadata": {},
     "outputs": [],
     "prompt_number": 14
    },
    {
     "cell_type": "heading",
     "level": 4,
     "metadata": {},
     "source": [
      "lets find the line ~ the estimted y"
     ]
    },
    {
     "cell_type": "code",
     "collapsed": false,
     "input": [
      "expected = (slope * df.alcohol) + intercept"
     ],
     "language": "python",
     "metadata": {},
     "outputs": [],
     "prompt_number": 15
    },
    {
     "cell_type": "markdown",
     "metadata": {},
     "source": [
      "$$ \\hat{y} = (slope * x) + intercept $$"
     ]
    },
    {
     "cell_type": "markdown",
     "metadata": {},
     "source": [
      "re-written again..."
     ]
    },
    {
     "cell_type": "markdown",
     "metadata": {},
     "source": [
      "$$ \\hat{y} = \\hat{\\beta_{1}}x + \\hat{\\beta_{0}} $$"
     ]
    },
    {
     "cell_type": "code",
     "collapsed": false,
     "input": [
      "plt.scatter(x=df.alcohol, y=df.quality, s=70, alpha=0.03)\n",
      "plt.plot(df.alcohol, expected, color=\"brown\")\n",
      "plt.show()"
     ],
     "language": "python",
     "metadata": {},
     "outputs": [
      {
       "metadata": {},
       "output_type": "display_data",
       "png": "[encoded data removed]",
       "text": [
        "<matplotlib.figure.Figure at 0x7fe382a7c150>"
       ]
      }
     ],
     "prompt_number": 16
    },
    {
     "cell_type": "heading",
     "level": 4,
     "metadata": {},
     "source": [
      "Lets find the degrees of freedom"
     ]
    },
    {
     "cell_type": "markdown",
     "metadata": {},
     "source": [
      "degrees of freedom are the number of ways in which our calculation of our slope is free to vary. Another, maybe easier way to think of it, is that as we add more predictive variables (we only have the one here) the more we erode our calculations with complications. The general formula for degrees of freedom is:"
     ]
    },
    {
     "cell_type": "markdown",
     "metadata": {},
     "source": [
      "degrees of freedom = (number of total variables) - (number of predicative variables) -  1/the intercept (sense it helps predict too)"
     ]
    },
    {
     "cell_type": "markdown",
     "metadata": {},
     "source": [
      "in symbols"
     ]
    },
    {
     "cell_type": "markdown",
     "metadata": {},
     "source": [
      "$$ df = N - k - 1 $$"
     ]
    },
    {
     "cell_type": "code",
     "collapsed": true,
     "input": [
      "degrees_of_freedom = df.shape[0] - 1 - 1"
     ],
     "language": "python",
     "metadata": {},
     "outputs": [],
     "prompt_number": 17
    },
    {
     "cell_type": "code",
     "collapsed": false,
     "input": [
      "degrees_of_freedom"
     ],
     "language": "python",
     "metadata": {},
     "outputs": [
      {
       "metadata": {},
       "output_type": "pyout",
       "prompt_number": 18,
       "text": [
        "1597"
       ]
      }
     ],
     "prompt_number": 18
    },
    {
     "cell_type": "heading",
     "level": 4,
     "metadata": {},
     "source": [
      "Finding the standard error of the slope"
     ]
    },
    {
     "cell_type": "markdown",
     "metadata": {},
     "source": [
      "the equation for the standard error of the slope is:"
     ]
    },
    {
     "cell_type": "markdown",
     "metadata": {},
     "source": [
      "standard error of the slope equal standard error of the estimate divided by the sqrt of the mean squares error of the predictor variable."
     ]
    },
    {
     "cell_type": "markdown",
     "metadata": {},
     "source": [
      "$$ SE_{\\hat{\\beta}} = \\frac{s_{e}}{\\sqrt{MSE_{x}}} $$"
     ]
    },
    {
     "cell_type": "markdown",
     "metadata": {},
     "source": [
      "expanded out thats..."
     ]
    },
    {
     "cell_type": "markdown",
     "metadata": {},
     "source": [
      "$$SE_{\\widehat\\beta} = \\frac{\\sqrt{\\frac{1}{n - 2}\\sum_{i=1}^n (Y_i - \\widehat y_i)^2}}{\\sqrt{ \\sum_{i=1}^n (x_i - \\overline{x})^2 }} $$"
     ]
    },
    {
     "cell_type": "code",
     "collapsed": false,
     "input": [
      "n = df.shape[0]\n",
      "num = sqrt((1.0/(n-2) * ((df.quality - expected)**2).sum()))\n",
      "dem = sqrt(((df.alcohol - df.alcohol.mean())**2).sum())\n",
      "standard_error_of_the_slope = num/dem\n",
      "standard_error_of_the_slope"
     ],
     "language": "python",
     "metadata": {},
     "outputs": [
      {
       "metadata": {},
       "output_type": "pyout",
       "prompt_number": 19,
       "text": [
        "0.016675160295475198"
       ]
      }
     ],
     "prompt_number": 19
    },
    {
     "cell_type": "code",
     "collapsed": false,
     "input": [
      "#pandas std takes into account the degrees of freedom\n",
      "standard_error_of_the_slope = expected.std()/sqrt(((df.alcohol - df.alcohol.mean())**2).sum()) \n",
      "standard_error_of_the_slope"
     ],
     "language": "python",
     "metadata": {},
     "outputs": [
      {
       "metadata": {},
       "output_type": "pyout",
       "prompt_number": 20,
       "text": [
        "0.0090266875772390658"
       ]
      }
     ],
     "prompt_number": 20
    },
    {
     "cell_type": "heading",
     "level": 4,
     "metadata": {},
     "source": [
      "Finding the test statistic, also known as the t score"
     ]
    },
    {
     "cell_type": "markdown",
     "metadata": {},
     "source": [
      "The t score can be found with the following formula:"
     ]
    },
    {
     "cell_type": "markdown",
     "metadata": {},
     "source": [
      "t-score equal the slope divided by the  standard error of the slope"
     ]
    },
    {
     "cell_type": "markdown",
     "metadata": {},
     "source": [
      "$$ t_{score} = \\frac{\\hat{\\beta_{1}} - \\beta_{0}}{s_{b}} $$"
     ]
    },
    {
     "cell_type": "markdown",
     "metadata": {},
     "source": [
      " but beta_0 is considered zero if the hypothesis is that x (alcohol) and y (quality) are'nt related"
     ]
    },
    {
     "cell_type": "markdown",
     "metadata": {},
     "source": [
      "The equation for the intercept of the regression line can be constructed as:"
     ]
    },
    {
     "cell_type": "code",
     "collapsed": true,
     "input": [
      "t_score = (slope - 0)/standard_error_of_the_slope\n",
      "t_score"
     ],
     "language": "python",
     "metadata": {},
     "outputs": [
      {
       "metadata": {},
       "output_type": "pyout",
       "prompt_number": 21,
       "text": [
        "39.974992182613988"
       ]
      }
     ],
     "prompt_number": 21
    },
    {
     "cell_type": "heading",
     "level": 4,
     "metadata": {},
     "source": [
      "Finding the t critical value"
     ]
    },
    {
     "cell_type": "markdown",
     "metadata": {},
     "source": [
      "the t critical value is that point beyond which our findings (our slope) is deemed significant."
     ]
    },
    {
     "cell_type": "code",
     "collapsed": true,
     "input": [
      "import scipy.stats\n",
      "# recall that our we set our alhpa to equal 0.05\n",
      "alpha = 0.05\n",
      "# we divided alpha by two because our test is two tailed (i.e we care if our slope is off in either direction)\n",
      "t_critical_value = scipy.stats.t.cdf(alpha/2, degrees_of_freedom)\n",
      "t_critical_value"
     ],
     "language": "python",
     "metadata": {},
     "outputs": [
      {
       "metadata": {},
       "output_type": "pyout",
       "prompt_number": 22,
       "text": [
        "0.50997095653423974"
       ]
      }
     ],
     "prompt_number": 22
    },
    {
     "cell_type": "heading",
     "level": 2,
     "metadata": {},
     "source": [
      "Results"
     ]
    },
    {
     "cell_type": "markdown",
     "metadata": {},
     "source": [
      "Lets recap the most relevant values:"
     ]
    },
    {
     "cell_type": "code",
     "collapsed": false,
     "input": [
      "t_score"
     ],
     "language": "python",
     "metadata": {},
     "outputs": [
      {
       "metadata": {},
       "output_type": "pyout",
       "prompt_number": 23,
       "text": [
        "39.974992182613988"
       ]
      }
     ],
     "prompt_number": 23
    },
    {
     "cell_type": "code",
     "collapsed": false,
     "input": [
      "t_critical_value"
     ],
     "language": "python",
     "metadata": {},
     "outputs": [
      {
       "metadata": {},
       "output_type": "pyout",
       "prompt_number": 24,
       "text": [
        "0.50997095653423974"
       ]
      }
     ],
     "prompt_number": 24
    },
    {
     "cell_type": "markdown",
     "metadata": {},
     "source": [
      "we would reject the null hypothesis when our t_score was greater then our t_critical_value"
     ]
    },
    {
     "cell_type": "code",
     "collapsed": false,
     "input": [
      "reject_null = t_score > t_critical_value\n",
      "reject_null"
     ],
     "language": "python",
     "metadata": {},
     "outputs": [
      {
       "metadata": {},
       "output_type": "pyout",
       "prompt_number": 25,
       "text": [
        "True"
       ]
      }
     ],
     "prompt_number": 25
    },
    {
     "cell_type": "markdown",
     "metadata": {},
     "source": [
      "before we go any further lets make sure we did everything right. You may be happy to know i wasted a lot of time figuring out how to do things with the hard(er) way."
     ]
    },
    {
     "cell_type": "code",
     "collapsed": false,
     "input": [
      "# statsmodels contains a lot of great tools for statisticans \n",
      "import statsmodels.formula.api as smf \n",
      "\n",
      "est = smf.ols(formula=\"quality ~ alcohol\", data=df).fit()\n",
      "# will check if their t_score is roughly equal to our t_score\n",
      "round(est.tvalues.alcohol,5) == round(t_score, 5)"
     ],
     "language": "python",
     "metadata": {},
     "outputs": [
      {
       "metadata": {},
       "output_type": "pyout",
       "prompt_number": 26,
       "text": [
        "False"
       ]
      }
     ],
     "prompt_number": 26
    },
    {
     "cell_type": "heading",
     "level": 3,
     "metadata": {},
     "source": [
      "Conclusions"
     ]
    },
    {
     "cell_type": "markdown",
     "metadata": {},
     "source": [
      "\n",
      "Concern urning our hypothesis:"
     ]
    },
    {
     "cell_type": "markdown",
     "metadata": {},
     "source": [
      "$$  H_{o}: \\beta_{1} = 0 $$\n",
      "$$ H_{a}: \\beta_{1} \\neq 0 $$\n"
     ]
    },
    {
     "cell_type": "code",
     "collapsed": false,
     "input": [
      "print \"with an alpha score of {0}, we found a t-critical value of {1} and a t score of \\\n",
      "{2} and so we {3}reject the Null hypothesis\".format(alpha, round(t_critical_value,2), round(t_score,2), {False: \"Failed to \", True: \"\"}[reject_null])\n"
     ],
     "language": "python",
     "metadata": {},
     "outputs": [
      {
       "output_type": "stream",
       "stream": "stdout",
       "text": [
        "with an alpha score of 0.05, we found a t-critical value of 0.51 and a t score of 39.97 and so we reject the Null hypothesis\n"
       ]
      }
     ],
     "prompt_number": 27
    },
    {
     "cell_type": "markdown",
     "metadata": {},
     "source": [
      "This means that we can be sure that their is a *significant* slight positive correlation between the quantity of alcohol and its \"quality\"."
     ]
    },
    {
     "cell_type": "markdown",
     "metadata": {},
     "source": [
      "With some additional help, we can find out how much of the variation in quality is due to variation in alcohol by examining the coefficient of determination:"
     ]
    },
    {
     "cell_type": "code",
     "collapsed": false,
     "input": [
      "est.rsquared_adj\n"
     ],
     "language": "python",
     "metadata": {},
     "outputs": [
      {
       "metadata": {},
       "output_type": "pyout",
       "prompt_number": 28,
       "text": [
        "0.22625016921989893"
       ]
      }
     ],
     "prompt_number": 28
    },
    {
     "cell_type": "markdown",
     "metadata": {},
     "source": [
      "Combining the two ideas and it's clear that while their is a relationship, its weak."
     ]
    },
    {
     "cell_type": "heading",
     "level": 1,
     "metadata": {},
     "source": [
      "Wrap up"
     ]
    },
    {
     "cell_type": "markdown",
     "metadata": {},
     "source": [
      "So what can we conclude? Well, like so many studies we can conclude that more work needs to be done. The logic next step would be to multiple regression using the other features we ignored making sure we pruned them intellegently."
     ]
    },
    {
     "cell_type": "code",
     "collapsed": false,
     "input": [],
     "language": "python",
     "metadata": {},
     "outputs": [],
     "prompt_number": 28
    }
   ],
   "metadata": {}
  }
 ]
}